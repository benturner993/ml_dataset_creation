{
 "cells": [
  {
   "cell_type": "code",
   "execution_count": 1,
   "metadata": {},
   "outputs": [],
   "source": [
    "from faker import Faker\n",
    "from datetime import datetime\n",
    "import pandas as pd\n",
    "import matplotlib.pyplot as plt\n",
    "import numpy as np\n",
    "import random \n",
    "from collections import Counter"
   ]
  },
  {
   "cell_type": "code",
   "execution_count": 2,
   "metadata": {},
   "outputs": [],
   "source": [
    "fake = Faker()"
   ]
  },
  {
   "cell_type": "code",
   "execution_count": 3,
   "metadata": {},
   "outputs": [],
   "source": [
    "nrow = 100000"
   ]
  },
  {
   "cell_type": "code",
   "execution_count": 4,
   "metadata": {},
   "outputs": [],
   "source": [
    "df = pd.DataFrame()"
   ]
  },
  {
   "cell_type": "code",
   "execution_count": 5,
   "metadata": {},
   "outputs": [],
   "source": [
    "# create an id and pol_ref field\n",
    "df['id'] = range(1, nrow+1)\n",
    "df['pol_ref']= 'pol'+ str(random.randint(0,99)).zfill(5) + df['id'].astype(str)"
   ]
  },
  {
   "cell_type": "code",
   "execution_count": 6,
   "metadata": {},
   "outputs": [],
   "source": [
    "# add customer information\n",
    "df['name'] = [fake.name()\n",
    "              for _ in range(nrow)]\n",
    "df['address'] = [fake.address()\n",
    "              for _ in range(nrow)]"
   ]
  },
  {
   "cell_type": "code",
   "execution_count": 7,
   "metadata": {},
   "outputs": [],
   "source": [
    "# this column is purposely non-sensical\n",
    "gender=['M', 'F']\n",
    "\n",
    "gender_prob=[0.5, 0.5]\n",
    "\n",
    "df['gender'] = np.random.choice(gender, nrow, p=gender_prob)"
   ]
  },
  {
   "cell_type": "code",
   "execution_count": 8,
   "metadata": {},
   "outputs": [],
   "source": [
    "cars=['Abarth','Aixam','AlfaRomeo','Audi','Austin','Bentley','BMW','Buick','Cadillac','Chevrolet','Chrysler',\\\n",
    "      'Citroen','Dacia','Daewoo','Daihatsu','Daimler','Dodge','DSAUTOMOBILES','Fiat','Ford','GMC','GreatWall',\\\n",
    "      'Honda','Hyundai','Infiniti','Isuzu','Iveco','Jaguar','JBA','Jeep','Kia','Lancia','LandRover','Lexus',\\\n",
    "      'Lincoln','LondonTaxisInternational','Telsa','Maserati','Mazda','Mercedes-Benz','MEV','MG','Microcar',\\\n",
    "      'MINI','Mitsubishi','Morris','Nissan','Oldsmobile','Opel','Panther','Perodua','Peugeot','Pontiac','Porsche',\\\n",
    "      'Proton','Reliant','Renault','Rolls-Royce','Rover','Saab','SEAT','SKODA','Smart','Ssangyong','Subaru',\\\n",
    "      'Suzuki','Talbot','Tiger','Toyota','Triumph','TVR','Vauxhall','Volkswagen','Volvo','Westfield', 'AstonMartin']\n",
    "\n",
    "cars_prob=[0.002,0.000,0.004,0.046,0.000,0.000,0.052,0.000,0.000,0.002,0.001,0.040,0.006,0.000,0.000,0.000,0.000,\\\n",
    "           0.005,0.037,0.133,0.000,0.000,0.024,0.032,0.001,0.000,0.000,0.008,0.000,0.002,0.030,0.000,0.006,0.003,\\\n",
    "           0.000,0.000,0.000,0.000,0.014,0.035,0.000,0.002,0.000,0.032,0.005,0.000,0.053,0.000,0.000,0.000,0.000,\\\n",
    "           0.051,0.000,0.001,0.000,0.000,0.041,0.000,0.000,0.002,0.023,0.026,0.006,0.001,0.001,0.015,0.000,0.000,\\\n",
    "           0.051,0.000,0.000,0.117,0.076,0.013,0.000,0.001]\n",
    "\n",
    "df['car_make'] = np.random.choice(cars, nrow, p=cars_prob)"
   ]
  },
  {
   "cell_type": "code",
   "execution_count": 9,
   "metadata": {},
   "outputs": [],
   "source": [
    "# TO FINISH BT\n",
    "\n",
    "# sports_premium_cars=['Porsche','Bentley', 'AstonMartin', 'Maserati','Rolls-Royce']\n",
    "# premium_cars=['AlfaRomeo','Audi', 'Infiniti', 'Lancia','Tesla','BMW', 'Jaguar', 'LandRover','Lexus','Mercedes-Benz']\n",
    "# everyday_cars=['Abarth','Renault','Smart','Saab','SEAT','SKODA','Citroen','DSAUTOMOBILES', 'Fiat','Ford', 'Jeep', 'Volvo', 'Volkswagen', 'Toyota', 'Mazda', 'MINI', 'Mitsubishi']\n",
    "# cheap_cars=['Ssangyong','Subaru''Rover','Peugeot','Nissan','Dacia','Daewoo','Daihatsu','GreatWall', 'Honda','Hyundai','Kia', 'Vauxhall', 'Suzuki']\n",
    "# collector_cars=['Aixam', 'Austin', 'Daimler','JBA', 'TVR', 'Triumph', 'Lincoln','LondonTaxisInternational']\n",
    "# imported_cars=['Proton','Reliant','Pontiac','Oldsmobile','Opel','Panther','Perodua','Morris','Buick','Cadillac','Chevrolet','Chrysler', 'Dodge', 'GMC', 'Isuzu','Iveco', 'Westfield', 'Talbot','Tiger','MEV','MG','Microcar']\n",
    "\n",
    "# Camper\n",
    "# Convertible\n",
    "# Coupe\n",
    "# Estate\n",
    "# Hatchback\n",
    "# MPV\n",
    "# Other\n",
    "# Panel Van\n",
    "# Pickup\n",
    "# SUV\n",
    "# Saloon\n",
    "# Unlisted\n",
    "\n",
    "# def j(row):\n",
    "#     if row['car_make'] in(sports_premium_cars):\n",
    "#         val = 'sport'\n",
    "    \n",
    "#     elif row['car_make'] in(premium_cars):\n",
    "#         val = 'saloon'\n",
    "\n",
    "#     elif row['car_make'] in(everyday_cars):\n",
    "#         val = 'hatch'\n",
    "\n",
    "#     else:\n",
    "#         val = 'misc'\n",
    "\n",
    "#     return val\n",
    "\n",
    "\n",
    "# df['car_body_type'] = df.apply(j, axis=1)"
   ]
  },
  {
   "cell_type": "code",
   "execution_count": 10,
   "metadata": {},
   "outputs": [],
   "source": [
    "sports_premium_cars=['Porsche','Bentley', 'AstonMartin', 'Maserati','Rolls-Royce']\n",
    "premium_cars=['AlfaRomeo','Audi', 'Infiniti', 'Lancia','Tesla','BMW', 'Jaguar', 'LandRover','Lexus','Mercedes-Benz']\n",
    "everyday_cars=['Abarth','Renault','Smart','Saab','SEAT','SKODA','Citroen','DSAUTOMOBILES', 'Fiat','Ford', 'Jeep', 'Volvo', 'Volkswagen', 'Toyota', 'Mazda', 'MINI', 'Mitsubishi']\n",
    "cheap_cars=['Ssangyong','Subaru''Rover','Peugeot','Nissan','Dacia','Daewoo','Daihatsu','GreatWall', 'Honda','Hyundai','Kia', 'Vauxhall', 'Suzuki']\n",
    "collector_cars=['Aixam', 'Austin', 'Daimler','JBA', 'TVR', 'Triumph', 'Lincoln','LondonTaxisInternational']\n",
    "imported_cars=['Proton','Reliant','Pontiac','Oldsmobile','Opel','Panther','Perodua','Morris','Buick','Cadillac','Chevrolet','Chrysler', 'Dodge', 'GMC', 'Isuzu','Iveco', 'Westfield', 'Talbot','Tiger','MEV','MG','Microcar']\n",
    "\n",
    "def f(row):\n",
    "    if row['car_make'] in(sports_premium_cars):\n",
    "        val = random.randint(75000, 100000)\n",
    "    \n",
    "    elif row['car_make'] in(premium_cars):\n",
    "        val = random.randint(35000, 80000)\n",
    "\n",
    "    elif row['car_make'] in(everyday_cars):\n",
    "        val = random.randint(25000, 55000)\n",
    "\n",
    "    elif row['car_make'] in(cheap_cars):\n",
    "        val = random.randint(17500, 30000)\n",
    "\n",
    "    elif row['car_make'] in(collector_cars):\n",
    "        val = random.randint(25000, 50000)\n",
    "\n",
    "    elif row['car_make'] in(imported_cars):\n",
    "        val = random.randint(30000, 60000)\n",
    "        \n",
    "    else:\n",
    "        val=random.randint(17000, 100000)\n",
    "\n",
    "    return val\n",
    "\n",
    "df['car_value_as_new'] = df.apply(f, axis=1)\n",
    "df['car_value_as_new'] = round(df['car_value_as_new']/1000)*1000"
   ]
  },
  {
   "cell_type": "code",
   "execution_count": 11,
   "metadata": {},
   "outputs": [],
   "source": [
    "df['car_year'] = np.random.randint(1998, 2021, nrow)"
   ]
  },
  {
   "cell_type": "code",
   "execution_count": null,
   "metadata": {},
   "outputs": [],
   "source": [
    "# TO DO BT\n",
    "# # number of previous owners\n",
    "# def k(row):\n",
    "#     if row['car_year'] == 2021:\n",
    "#         val = 0\n",
    "    \n",
    "#     elif row['car_make'] in(imported_cars):\n",
    "#         val = random.randint(30000, 60000)\n",
    "        \n",
    "#     else:\n",
    "#         val=random.randint(17000, 100000)\n",
    "\n",
    "#     return val\n",
    "\n",
    "# df['car_nowners'] = df.apply(k, axis=1)"
   ]
  },
  {
   "cell_type": "code",
   "execution_count": 12,
   "metadata": {},
   "outputs": [],
   "source": [
    "def g(row):\n",
    "    if row['car_make'] in(sports_premium_cars):\n",
    "        val = random.randint(35, 72)\n",
    "    \n",
    "    elif row['car_make'] in(premium_cars):\n",
    "        val = random.randint(28, 82)\n",
    "\n",
    "    elif row['car_make'] in(everyday_cars):\n",
    "        val = random.randint(17, 90)\n",
    "\n",
    "    elif row['car_make'] in(cheap_cars):\n",
    "        val = random.randint(17, 90)\n",
    "\n",
    "    elif row['car_make'] in(collector_cars):\n",
    "        val = random.randint(40, 90)\n",
    "\n",
    "    elif row['car_make'] in(imported_cars):\n",
    "        val = random.randint(46, 72)\n",
    "        \n",
    "    else:\n",
    "        val=random.randint(17, 88)\n",
    "\n",
    "    return val\n",
    "\n",
    "df['pol_holder_age'] = df.apply(g, axis=1)"
   ]
  },
  {
   "cell_type": "code",
   "execution_count": 13,
   "metadata": {},
   "outputs": [],
   "source": [
    "# this column is purposely non-sensical\n",
    "contract=['Freelancer', 'Homeworking', 'Unemployed', 'Self-Employed', 'Contractor', 'Permanent Employee']\n",
    "\n",
    "contract_prob=[0.01, 0.05, 0.05,0.19,0.1,0.6]\n",
    "\n",
    "df['pol_employment_type'] = np.random.choice(contract, nrow, p=contract_prob)"
   ]
  },
  {
   "cell_type": "code",
   "execution_count": 14,
   "metadata": {},
   "outputs": [],
   "source": [
    "industry=['Agriculture, Forestry, Fishing','Mining','Construction','Manufacturing','Transportation & Public Utilities',\\\n",
    "'Wholesale Trade','Retail Trade','Finance, Insurance, Real Estate','Services','Public Administration']\n",
    "\n",
    "industry_prob=[0.01, 0.04, 0.15, 0.05, 0.05, 0.1, 0.15, 0.15, 0.15, 0.15]\n",
    "\n",
    "df['pol_employment_industry'] = np.random.choice(industry, nrow, p=industry_prob)"
   ]
  },
  {
   "cell_type": "code",
   "execution_count": 15,
   "metadata": {},
   "outputs": [],
   "source": [
    "def i(row):\n",
    "    if row['car_make'] in(sports_premium_cars):\n",
    "        val = random.randint(10, 25)\n",
    "    \n",
    "    elif row['car_make'] in(premium_cars):\n",
    "        val = random.randint(3, 25)\n",
    "\n",
    "    elif row['car_make'] in(everyday_cars):\n",
    "        val = random.randint(1, 25)\n",
    "\n",
    "    elif row['car_make'] in(cheap_cars):\n",
    "        val = random.randint(1, 25)\n",
    "\n",
    "    elif row['car_make'] in(collector_cars):\n",
    "        val = random.randint(10, 25)\n",
    "\n",
    "    elif row['car_make'] in(imported_cars):\n",
    "        val = random.randint(10, 25)\n",
    "        \n",
    "    else:\n",
    "        val=random.randint(1, 25)\n",
    "\n",
    "    return val\n",
    "\n",
    "df['pol_holder_licence_length'] = df.apply(i, axis=1)"
   ]
  },
  {
   "cell_type": "code",
   "execution_count": 16,
   "metadata": {},
   "outputs": [],
   "source": [
    "def h(row):\n",
    "    if row['car_make'] in(sports_premium_cars):\n",
    "        val = random.randint(175, 205) #np.random.choice([175, 195, 205], nrow, p=[0.6, 0.2, 0.2])\n",
    "    \n",
    "    elif row['car_make'] in(premium_cars):\n",
    "        val = random.randint(145, 175) #np.random.choice([145, 155, 165, 175], nrow, p=[0.25,0.25,0.25,0.25])\n",
    "\n",
    "    elif row['car_make'] in(everyday_cars):\n",
    "        val = random.randint(125, 155) #np.random.choice([125,135,145,155], nrow, p=[0.25,0.25,0.3,0.2])\n",
    "\n",
    "    elif row['car_make'] in(cheap_cars):\n",
    "        val = random.randint(125, 132) #np.random.choice([125,135], nrow, p=[0.5,0.5])\n",
    "\n",
    "    elif row['car_make'] in(collector_cars):\n",
    "        val = random.randint(95, 125) #np.random.choice([105,115,125,95], nrow, p=[0.3,0.3,0.3,0.1])\n",
    "\n",
    "    elif row['car_make'] in(imported_cars):\n",
    "        val = random.randint(95, 105) #np.random.choice([95,105], nrow, p=[0.25,0.75])\n",
    "        \n",
    "    else:\n",
    "        val=random.randint(95, 155)\n",
    "\n",
    "    return val\n",
    "\n",
    "df['car_top_speed'] = df.apply(h, axis=1)\n",
    "df['car_top_speed'] = round(df['car_top_speed']/10)*10"
   ]
  },
  {
   "cell_type": "code",
   "execution_count": 17,
   "metadata": {},
   "outputs": [],
   "source": [
    "df['postcode_rating'] = np.random.randint(1, 50, nrow)\n",
    "df['credit_rating'] = np.random.randint(1, 50, nrow)"
   ]
  },
  {
   "cell_type": "code",
   "execution_count": 18,
   "metadata": {},
   "outputs": [],
   "source": [
    "df['other_named_driver'] = np.random.choice(['Yes', 'No'], nrow, p=[0.25,0.75])\n",
    "df['criminal_convictions'] = np.random.choice(['2', '1', '0'], nrow, p=[0.001,0.002,0.997])"
   ]
  },
  {
   "cell_type": "code",
   "execution_count": 19,
   "metadata": {},
   "outputs": [],
   "source": [
    "df['car_modified_indicator'] = np.random.choice(['No', 'Yes'], nrow, p=[0.999, 0.001])\n",
    "df['car_colour'] = np.random.choice(['black', 'red', 'silver', 'purple', 'blue', 'white', 'grey', 'yellow', 'green', 'orange'], \n",
    "                                    nrow, p=[0.15, 0.1, 0.1, 0.05, 0.1, 0.1, 0.1, 0.1, 0.1, 0.1])"
   ]
  },
  {
   "cell_type": "code",
   "execution_count": 20,
   "metadata": {},
   "outputs": [],
   "source": [
    "df['exposure'] = 1"
   ]
  },
  {
   "cell_type": "markdown",
   "metadata": {},
   "source": [
    "# Target Creation"
   ]
  },
  {
   "cell_type": "code",
   "execution_count": 21,
   "metadata": {},
   "outputs": [],
   "source": [
    "cat1_dict={'Abarth':0,\n",
    "'Aixam':0,\n",
    "'AlfaRomeo':0,\n",
    "'Audi':1,\n",
    "'Austin':0,\n",
    "'Bentley':0,\n",
    "'BMW':1,\n",
    "'Buick':0,\n",
    "'Cadillac':0,\n",
    "'Chevrolet':0,\n",
    "'Chrysler':0,\n",
    "'Citroen':0,\n",
    "'Dacia':0,\n",
    "'Daewoo':0,\n",
    "'Daihatsu':0,\n",
    "'Daimler':0,\n",
    "'Dodge':0,\n",
    "'DSAUTOMOBILES':0,\n",
    "'Fiat':0,\n",
    "'Ford':1,\n",
    "'GMC':0,\n",
    "'GreatWall':0,\n",
    "'Honda':0,\n",
    "'Hyundai':0,\n",
    "'Infiniti':0,\n",
    "'Isuzu':0,\n",
    "'Iveco':0,\n",
    "'Jaguar':0,\n",
    "'JBA':0,\n",
    "'Jeep':0,\n",
    "'Kia':-1,\n",
    "'Lancia':0,\n",
    "'LandRover':1,\n",
    "'Lexus':0,\n",
    "'Lincoln':0,\n",
    "'LondonTaxisInternational':0,\n",
    "'Tesla':0,\n",
    "'Maserati':0,\n",
    "'Mazda':0,\n",
    "'Mercedes-Benz':1,\n",
    "'MEV':0,\n",
    "'MG':0,\n",
    "'Microcar':0,\n",
    "'MINI':0,\n",
    "'Mitsubishi':1,\n",
    "'Morris':0,\n",
    "'Nissan':0,\n",
    "'Oldsmobile':0,\n",
    "'Opel':0,\n",
    "'Panther':0,\n",
    "'Perodua':0,\n",
    "'Peugeot':1,\n",
    "'Pontiac':0,\n",
    "'Porsche':0,\n",
    "'Proton':0,\n",
    "'Reliant':1,\n",
    "'Renault':1,\n",
    "'Rolls-Royce':0,\n",
    "'Rover':0,\n",
    "'Saab':0,\n",
    "'SEAT':0,\n",
    "'SKODA':0,\n",
    "'Smart':0,\n",
    "'Ssangyong':0,\n",
    "'Subaru':1,\n",
    "'Suzuki':0,\n",
    "'Talbot':0,\n",
    "'Tiger':0,\n",
    "'Toyota':0,\n",
    "'Triumph':0,\n",
    "'TVR':0,\n",
    "'Vauxhall':1,\n",
    "'Volkswagen':0,\n",
    "'Volvo':-1,\n",
    "'Westfield':0,\n",
    "'AstonMartin':0}\n",
    "\n",
    "def cat1_transform(key):\n",
    "    return cat1_dict[key]\n",
    "\n",
    "cat1_tf=df['car_make'].apply(cat1_transform)"
   ]
  },
  {
   "cell_type": "code",
   "execution_count": 22,
   "metadata": {},
   "outputs": [],
   "source": [
    "cat1_dict={'Freelancer':0, \n",
    "           'Homeworking':0, \n",
    "           'Unemployed':0, \n",
    "           'Self-Employed':1, \n",
    "           'Contractor':1, \n",
    "           'Permanent Employee':0}\n",
    "\n",
    "cat2_tf=df['pol_employment_type'].apply(cat1_transform)"
   ]
  },
  {
   "cell_type": "code",
   "execution_count": 23,
   "metadata": {},
   "outputs": [],
   "source": [
    "cat1_dict={'M':0.1, \n",
    "           'F':0}\n",
    "\n",
    "cat3_tf=df['gender'].apply(cat1_transform)"
   ]
  },
  {
   "cell_type": "code",
   "execution_count": 26,
   "metadata": {},
   "outputs": [],
   "source": [
    "cat1_dict={'Agriculture, Forestry, Fishing':0,\n",
    "'Mining':1,\n",
    "'Construction':1,\n",
    "'Manufacturing':0,\n",
    "'Transportation & Public Utilities':1,\n",
    "'Wholesale Trade':0,\n",
    "'Retail Trade':0,\n",
    "'Finance, Insurance, Real Estate':1,\n",
    "'Services':0,\n",
    "'Public Administration':-1}\n",
    "\n",
    "cat4_tf=df['pol_employment_industry'].apply(cat1_transform)"
   ]
  },
  {
   "cell_type": "code",
   "execution_count": 27,
   "metadata": {},
   "outputs": [],
   "source": [
    "def scaler(df, col):\n",
    "    \n",
    "    mean=df[col].mean()\n",
    "    std=df[col].std()\n",
    "    df[col + '_scl']=(df[col]-mean)/std"
   ]
  },
  {
   "cell_type": "code",
   "execution_count": 28,
   "metadata": {},
   "outputs": [],
   "source": [
    "scaler(df, 'pol_holder_age')\n",
    "scaler(df, 'car_value_as_new')\n",
    "scaler(df, 'car_year')\n",
    "scaler(df, 'postcode_rating')\n",
    "scaler(df, 'credit_rating')\n",
    "scaler(df,'car_top_speed')\n",
    "scaler(df, 'pol_holder_licence_length')"
   ]
  },
  {
   "cell_type": "code",
   "execution_count": 29,
   "metadata": {},
   "outputs": [],
   "source": [
    "target_name='large_collision'"
   ]
  },
  {
   "cell_type": "code",
   "execution_count": 30,
   "metadata": {},
   "outputs": [],
   "source": [
    "mu, sigma = 0, 10\n",
    "s = np.random.normal(mu, sigma, nrow)\n",
    "\n",
    "# random noise\n",
    "df[target_name] = s\n",
    "\n",
    "df[target_name] = df[target_name] + (df['pol_holder_age_scl']**2)*-1 + \\\n",
    "(df['postcode_rating_scl'])*-1 + \\\n",
    "(df['credit_rating_scl'])*-1 + \\\n",
    "(df['car_top_speed_scl'])*-1 + \\\n",
    "(df['pol_holder_licence_length_scl']**3) + \\\n",
    "cat1_tf + cat2_tf + cat3_tf + cat4_tf +\\\n",
    "(df['car_value_as_new_scl']*df['pol_holder_age_scl']) + \\\n",
    "(df['car_top_speed_scl']*df['pol_holder_age_scl']) + \\\n",
    "(df['car_year_scl']*df['pol_holder_age_scl']) # age x car year interaction"
   ]
  },
  {
   "cell_type": "code",
   "execution_count": 31,
   "metadata": {},
   "outputs": [],
   "source": [
    "df[target_name] = np.where(df[target_name] <= np.percentile(df[target_name], 20), 1, 0)"
   ]
  },
  {
   "cell_type": "code",
   "execution_count": 37,
   "metadata": {},
   "outputs": [],
   "source": [
    "cols=['car_year', \n",
    "'car_make',\n",
    "'car_value_as_new',\n",
    "'pol_holder_age',\n",
    "'postcode_rating',\n",
    "'credit_rating',\n",
    "'other_named_driver',\n",
    "'criminal_convictions',\n",
    "'car_modified_indicator',\n",
    "'car_top_speed', \n",
    "'car_colour',\n",
    "'pol_holder_licence_length',\n",
    "'gender',\n",
    "'pol_employment_type',\n",
    "'pol_employment_industry']"
   ]
  },
  {
   "cell_type": "code",
   "execution_count": null,
   "metadata": {
    "scrolled": false
   },
   "outputs": [
    {
     "data": {
      "image/png": "[encoded data removed]",
      "text/plain": [
       "<Figure size 720x720 with 2 Axes>"
      ]
     },
     "metadata": {
      "needs_background": "light"
     },
     "output_type": "display_data"
    },
    {
     "data": {
      "image/png": "[encoded data removed]",
      "text/plain": [
       "<Figure size 720x720 with 2 Axes>"
      ]
     },
     "metadata": {
      "needs_background": "light"
     },
     "output_type": "display_data"
    }
   ],
   "source": [
    "for i in cols:\n",
    "\n",
    "    # values for x-graph\n",
    "    exposure=df.groupby(i)['exposure'].sum()\n",
    "    obs=df.groupby(i)[target_name].mean()\n",
    "    diff_band=sorted(set(df[i]))\n",
    "\n",
    "    # Bar plot\n",
    "    plt.rcParams[\"figure.figsize\"] = (10,10)\n",
    "    width = 0.5\n",
    "    plt.bar(diff_band, exposure, width, color='gold', label='Diff', edgecolor='k')\n",
    "    plt.xticks(rotation=90)\n",
    "    plt.ylim(0, max(exposure)*3)\n",
    "    plt.ylabel('Exposure')\n",
    "    plt.xlabel(f'{i}')\n",
    "    plt.title(f'One Way Plot of {i}')\n",
    "\n",
    "    # Line plot\n",
    "    axes2 = plt.twinx()\n",
    "    axes2.plot(diff_band, obs, color='fuchsia', marker=\"s\", markeredgecolor='black', label='Actual')\n",
    "    # axes2.plot(diff_band, prop, color='blue', marker=\"D\", markeredgecolor='black', label=f'Model 2 ({model2})')\n",
    "    # axes2.plot(diff_band, curr, color='g', marker=\"^\", markeredgecolor='black', label=f'Model 1 ({model1})')\n",
    "    axes2.set_ylabel(target_name)\n",
    "\n",
    "    # legend and settings\n",
    "    plt.legend(loc=\"upper left\")\n",
    "\n",
    "    plt.show()"
   ]
  },
  {
   "cell_type": "markdown",
   "metadata": {},
   "source": [
    "# AOB"
   ]
  }
 ],
 "metadata": {
  "kernelspec": {
   "display_name": "Python 3",
   "language": "python",
   "name": "python3"
  },
  "language_info": {
   "codemirror_mode": {
    "name": "ipython",
    "version": 3
   },
   "file_extension": ".py",
   "mimetype": "text/x-python",
   "name": "python",
   "nbconvert_exporter": "python",
   "pygments_lexer": "ipython3",
   "version": "3.7.0"
  }
 },
 "nbformat": 4,
 "nbformat_minor": 2
}
