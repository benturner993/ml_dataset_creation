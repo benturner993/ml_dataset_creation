{
 "cells": [
  {
   "cell_type": "code",
   "execution_count": 1,
   "metadata": {},
   "outputs": [],
   "source": [
    "import pandas as pd\n",
    "import numpy as np\n",
    "import statsmodels.api as sm\n",
    "from xgboost import XGBClassifier\n",
    "from sklearn.linear_model import LogisticRegression\n",
    "from sklearn import metrics\n",
    "from sklearn.model_selection import train_test_split\n",
    "from sklearn.metrics import confusion_matrix, accuracy_score, precision_score, \\\n",
    "    recall_score, f1_score, roc_auc_score, matthews_corrcoef"
   ]
  },
  {
   "cell_type": "markdown",
   "metadata": {},
   "source": [
    "# Logistic Regression"
   ]
  },
  {
   "cell_type": "code",
   "execution_count": 2,
   "metadata": {},
   "outputs": [],
   "source": [
    "train=pd.read_csv('data/train.csv')\n",
    "valid=pd.read_csv('data/valid.csv')\n",
    "\n",
    "df=pd.concat([train, valid])"
   ]
  },
  {
   "cell_type": "code",
   "execution_count": 19,
   "metadata": {},
   "outputs": [
    {
     "data": {
      "text/html": [
       "<div>\n",
       "<style scoped>\n",
       "    .dataframe tbody tr th:only-of-type {\n",
       "        vertical-align: middle;\n",
       "    }\n",
       "\n",
       "    .dataframe tbody tr th {\n",
       "        vertical-align: top;\n",
       "    }\n",
       "\n",
       "    .dataframe thead th {\n",
       "        text-align: right;\n",
       "    }\n",
       "</style>\n",
       "<table border=\"1\" class=\"dataframe\">\n",
       "  <thead>\n",
       "    <tr style=\"text-align: right;\">\n",
       "      <th></th>\n",
       "      <th>car_value_as_new</th>\n",
       "      <th>car_year</th>\n",
       "      <th>pol_holder_age</th>\n",
       "      <th>pol_holder_licence_length</th>\n",
       "      <th>car_top_speed</th>\n",
       "      <th>postcode_rating</th>\n",
       "      <th>credit_rating</th>\n",
       "      <th>criminal_convictions</th>\n",
       "      <th>large_collision</th>\n",
       "    </tr>\n",
       "  </thead>\n",
       "  <tbody>\n",
       "    <tr>\n",
       "      <th>count</th>\n",
       "      <td>200000.000000</td>\n",
       "      <td>200000.000000</td>\n",
       "      <td>200000.000000</td>\n",
       "      <td>200000.000000</td>\n",
       "      <td>200000.000000</td>\n",
       "      <td>200000.000000</td>\n",
       "      <td>200000.000000</td>\n",
       "      <td>200000.000000</td>\n",
       "      <td>200000.000000</td>\n",
       "    </tr>\n",
       "    <tr>\n",
       "      <th>mean</th>\n",
       "      <td>37529.000000</td>\n",
       "      <td>2008.993970</td>\n",
       "      <td>53.761095</td>\n",
       "      <td>13.209535</td>\n",
       "      <td>139.288650</td>\n",
       "      <td>25.014940</td>\n",
       "      <td>24.973240</td>\n",
       "      <td>0.004020</td>\n",
       "      <td>0.200010</td>\n",
       "    </tr>\n",
       "    <tr>\n",
       "      <th>std</th>\n",
       "      <td>14262.633912</td>\n",
       "      <td>6.648848</td>\n",
       "      <td>20.536947</td>\n",
       "      <td>7.131568</td>\n",
       "      <td>13.287075</td>\n",
       "      <td>14.149966</td>\n",
       "      <td>14.127527</td>\n",
       "      <td>0.077678</td>\n",
       "      <td>0.400008</td>\n",
       "    </tr>\n",
       "    <tr>\n",
       "      <th>min</th>\n",
       "      <td>17000.000000</td>\n",
       "      <td>1998.000000</td>\n",
       "      <td>17.000000</td>\n",
       "      <td>1.000000</td>\n",
       "      <td>100.000000</td>\n",
       "      <td>1.000000</td>\n",
       "      <td>1.000000</td>\n",
       "      <td>0.000000</td>\n",
       "      <td>0.000000</td>\n",
       "    </tr>\n",
       "    <tr>\n",
       "      <th>25%</th>\n",
       "      <td>26000.000000</td>\n",
       "      <td>2003.000000</td>\n",
       "      <td>36.000000</td>\n",
       "      <td>7.000000</td>\n",
       "      <td>130.000000</td>\n",
       "      <td>13.000000</td>\n",
       "      <td>13.000000</td>\n",
       "      <td>0.000000</td>\n",
       "      <td>0.000000</td>\n",
       "    </tr>\n",
       "    <tr>\n",
       "      <th>50%</th>\n",
       "      <td>35000.000000</td>\n",
       "      <td>2009.000000</td>\n",
       "      <td>54.000000</td>\n",
       "      <td>13.000000</td>\n",
       "      <td>140.000000</td>\n",
       "      <td>25.000000</td>\n",
       "      <td>25.000000</td>\n",
       "      <td>0.000000</td>\n",
       "      <td>0.000000</td>\n",
       "    </tr>\n",
       "    <tr>\n",
       "      <th>75%</th>\n",
       "      <td>47000.000000</td>\n",
       "      <td>2015.000000</td>\n",
       "      <td>71.000000</td>\n",
       "      <td>19.000000</td>\n",
       "      <td>150.000000</td>\n",
       "      <td>37.000000</td>\n",
       "      <td>37.000000</td>\n",
       "      <td>0.000000</td>\n",
       "      <td>0.000000</td>\n",
       "    </tr>\n",
       "    <tr>\n",
       "      <th>max</th>\n",
       "      <td>100000.000000</td>\n",
       "      <td>2020.000000</td>\n",
       "      <td>90.000000</td>\n",
       "      <td>25.000000</td>\n",
       "      <td>200.000000</td>\n",
       "      <td>49.000000</td>\n",
       "      <td>49.000000</td>\n",
       "      <td>2.000000</td>\n",
       "      <td>1.000000</td>\n",
       "    </tr>\n",
       "  </tbody>\n",
       "</table>\n",
       "</div>"
      ],
      "text/plain": [
       "       car_value_as_new       car_year  pol_holder_age  \\\n",
       "count     200000.000000  200000.000000   200000.000000   \n",
       "mean       37529.000000    2008.993970       53.761095   \n",
       "std        14262.633912       6.648848       20.536947   \n",
       "min        17000.000000    1998.000000       17.000000   \n",
       "25%        26000.000000    2003.000000       36.000000   \n",
       "50%        35000.000000    2009.000000       54.000000   \n",
       "75%        47000.000000    2015.000000       71.000000   \n",
       "max       100000.000000    2020.000000       90.000000   \n",
       "\n",
       "       pol_holder_licence_length  car_top_speed  postcode_rating  \\\n",
       "count              200000.000000  200000.000000    200000.000000   \n",
       "mean                   13.209535     139.288650        25.014940   \n",
       "std                     7.131568      13.287075        14.149966   \n",
       "min                     1.000000     100.000000         1.000000   \n",
       "25%                     7.000000     130.000000        13.000000   \n",
       "50%                    13.000000     140.000000        25.000000   \n",
       "75%                    19.000000     150.000000        37.000000   \n",
       "max                    25.000000     200.000000        49.000000   \n",
       "\n",
       "       credit_rating  criminal_convictions  large_collision  \n",
       "count  200000.000000         200000.000000    200000.000000  \n",
       "mean       24.973240              0.004020         0.200010  \n",
       "std        14.127527              0.077678         0.400008  \n",
       "min         1.000000              0.000000         0.000000  \n",
       "25%        13.000000              0.000000         0.000000  \n",
       "50%        25.000000              0.000000         0.000000  \n",
       "75%        37.000000              0.000000         0.000000  \n",
       "max        49.000000              2.000000         1.000000  "
      ]
     },
     "execution_count": 19,
     "metadata": {},
     "output_type": "execute_result"
    }
   ],
   "source": [
    "df.describe()"
   ]
  },
  {
   "cell_type": "code",
   "execution_count": 20,
   "metadata": {},
   "outputs": [],
   "source": [
    "cols=['car_value_as_new',\n",
    "'car_year',\n",
    "'pol_holder_age',\n",
    "'pol_holder_licence_length',\n",
    "'car_top_speed',\n",
    "'postcode_rating',\n",
    "'credit_rating',\n",
    "'criminal_convictions']"
   ]
  },
  {
   "cell_type": "code",
   "execution_count": 21,
   "metadata": {},
   "outputs": [],
   "source": [
    "X=df[cols]\n",
    "y=df['large_collision']"
   ]
  },
  {
   "cell_type": "code",
   "execution_count": 22,
   "metadata": {
    "scrolled": false
   },
   "outputs": [
    {
     "data": {
      "text/plain": [
       "LogisticRegression(C=1.0, class_weight=None, dual=False, fit_intercept=True,\n",
       "                   intercept_scaling=1, l1_ratio=None, max_iter=100,\n",
       "                   multi_class='auto', n_jobs=None, penalty='l2',\n",
       "                   random_state=None, solver='lbfgs', tol=0.0001, verbose=0,\n",
       "                   warm_start=False)"
      ]
     },
     "execution_count": 22,
     "metadata": {},
     "output_type": "execute_result"
    }
   ],
   "source": [
    "X_train, X_test, y_train, y_test = train_test_split(X, y, test_size=0.3, random_state=0)\n",
    "\n",
    "logreg = LogisticRegression()\n",
    "logreg.fit(X_train, y_train)"
   ]
  },
  {
   "cell_type": "code",
   "execution_count": 23,
   "metadata": {},
   "outputs": [],
   "source": [
    "y_pred=logreg.predict(X_test)\n",
    "y_pred_prob=logreg.predict_proba(X_test)\n",
    "y_pred_prob=[p[1] for p in y_pred_prob]"
   ]
  },
  {
   "cell_type": "code",
   "execution_count": 24,
   "metadata": {},
   "outputs": [
    {
     "name": "stdout",
     "output_type": "stream",
     "text": [
      "Accuracy Score: 0.8006666666666666\n",
      "Precision Score: [0.80066667 0.        ]\n",
      "Recall Score: [1. 0.]\n",
      "F1 Score: [0.88930026 0.        ]\n",
      "AUROC: 0.6327883240415595\n",
      "MCC: 0.0 \n",
      "\n"
     ]
    },
    {
     "name": "stderr",
     "output_type": "stream",
     "text": [
      "/Library/Frameworks/Python.framework/Versions/3.7/lib/python3.7/site-packages/sklearn/metrics/_classification.py:1272: UndefinedMetricWarning: Precision is ill-defined and being set to 0.0 in labels with no predicted samples. Use `zero_division` parameter to control this behavior.\n",
      "  _warn_prf(average, modifier, msg_start, len(result))\n",
      "/Library/Frameworks/Python.framework/Versions/3.7/lib/python3.7/site-packages/sklearn/metrics/_classification.py:900: RuntimeWarning: invalid value encountered in double_scalars\n",
      "  mcc = cov_ytyp / np.sqrt(cov_ytyt * cov_ypyp)\n"
     ]
    }
   ],
   "source": [
    "print('Accuracy Score:', accuracy_score(y_test, y_pred))\n",
    "print('Precision Score:', precision_score(y_test, y_pred, average=None))\n",
    "print('Recall Score:', recall_score(y_test, y_pred, average=None))\n",
    "print('F1 Score:', f1_score(y_test, y_pred, average=None))\n",
    "print('AUROC:', roc_auc_score(y_test, y_pred_prob))\n",
    "print('MCC:', matthews_corrcoef(y_test, y_pred), '\\n')"
   ]
  },
  {
   "cell_type": "code",
   "execution_count": 25,
   "metadata": {},
   "outputs": [],
   "source": [
    "def model_performance_metrics(train_pred, ):\n",
    "    ''' function to return the model performance metrics '''\n",
    "\n",
    "    print(f\"{model_name} Training Performance Metrics:\\n\")\n",
    "    tn, fp, fn, tp = confusion_matrix(train_pred, y_train).ravel()\n",
    "    print('True Negatives:', tn, 'False Positives:', fp, 'False Negatives:', fn, 'True Positives:', tp)\n",
    "    print('Accuracy Score:', accuracy_score(y_train, train_pred))\n",
    "    print('Precision Score:', precision_score(y_train, train_pred, average=None))\n",
    "    print('Recall Score:', recall_score(y_train, train_pred, average=None))\n",
    "    print('F1 Score:', f1_score(y_train, train_pred, average=None))\n",
    "    print('AUROC:', roc_auc_score(y_train, train_prob))\n",
    "    print('MCC:', matthews_corrcoef(y_train, train_pred), '\\n')"
   ]
  },
  {
   "cell_type": "markdown",
   "metadata": {},
   "source": [
    "# XGBoost"
   ]
  },
  {
   "cell_type": "code",
   "execution_count": 34,
   "metadata": {},
   "outputs": [],
   "source": [
    "# split data into X and y\n",
    "X = train[cols]\n",
    "Y = train['large_collision']"
   ]
  },
  {
   "cell_type": "code",
   "execution_count": 36,
   "metadata": {},
   "outputs": [
    {
     "data": {
      "text/plain": [
       "XGBClassifier(base_score=0.5, booster='gbtree', colsample_bylevel=1,\n",
       "              colsample_bynode=1, colsample_bytree=1, gamma=0, gpu_id=-1,\n",
       "              importance_type='gain', interaction_constraints='',\n",
       "              learning_rate=0.300000012, max_delta_step=0, max_depth=6,\n",
       "              min_child_weight=1, missing=nan, monotone_constraints='()',\n",
       "              n_estimators=100, n_jobs=0, num_parallel_tree=1,\n",
       "              objective='binary:logistic', random_state=0, reg_alpha=0,\n",
       "              reg_lambda=1, scale_pos_weight=1, subsample=1,\n",
       "              tree_method='exact', validate_parameters=1, verbosity=None)"
      ]
     },
     "execution_count": 36,
     "metadata": {},
     "output_type": "execute_result"
    }
   ],
   "source": [
    "# fit model no training data\n",
    "model = XGBClassifier()\n",
    "model.fit(X_train, y_train)"
   ]
  },
  {
   "cell_type": "code",
   "execution_count": 45,
   "metadata": {},
   "outputs": [],
   "source": [
    "# make predictions for test data\n",
    "y_test=valid['large_collision']\n",
    "y_pred = model.predict(valid[cols])\n",
    "y_pred_prob = model.predict_proba(valid[cols])\n",
    "y_pred_prob=[p[1] for p in y_pred_prob]"
   ]
  },
  {
   "cell_type": "code",
   "execution_count": 46,
   "metadata": {},
   "outputs": [
    {
     "name": "stdout",
     "output_type": "stream",
     "text": [
      "Accuracy Score: 0.81036\n",
      "Precision Score: [0.81468434 0.66643812]\n",
      "Recall Score: [0.98784737 0.09751693]\n",
      "F1 Score: [0.89294827 0.17013828]\n",
      "AUROC: 0.7162941136787359\n",
      "MCC: 0.20265903449097106 \n",
      "\n"
     ]
    }
   ],
   "source": [
    "# evaluate predictions\n",
    "print('Accuracy Score:', accuracy_score(y_test, y_pred))\n",
    "print('Precision Score:', precision_score(y_test, y_pred, average=None))\n",
    "print('Recall Score:', recall_score(y_test, y_pred, average=None))\n",
    "print('F1 Score:', f1_score(y_test, y_pred, average=None))\n",
    "print('AUROC:', roc_auc_score(y_test, y_pred_prob))\n",
    "print('MCC:', matthews_corrcoef(y_test, y_pred), '\\n')"
   ]
  }
 ],
 "metadata": {
  "kernelspec": {
   "display_name": "Python 3",
   "language": "python",
   "name": "python3"
  },
  "language_info": {
   "codemirror_mode": {
    "name": "ipython",
    "version": 3
   },
   "file_extension": ".py",
   "mimetype": "text/x-python",
   "name": "python",
   "nbconvert_exporter": "python",
   "pygments_lexer": "ipython3",
   "version": "3.7.0"
  }
 },
 "nbformat": 4,
 "nbformat_minor": 2
}
